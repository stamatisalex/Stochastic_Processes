{
 "cells": [
  {
   "cell_type": "markdown",
   "metadata": {},
   "source": [
    "## 2η Σειρά Εργαστηριακών Ασκήσεων\n",
    "\n",
    "### Όνομα: Αλεξανδρόπουλος Σταμάτης\n",
    "### Αριθμός Μητρώου: 03117060\n",
    "### Σχολή: ΗΜΜΥ\n",
    "\n",
    "____\n",
    "\n",
    "### Άσκηση 19\n",
    "\n",
    "Γράψτε σε ένα καινούργιο Jupyter Notebook έναν ολοκληρωμένο κώδικα σε Python που θα κάνει $M=50$ εκτιμήσεις Monte Carlo της πιθανότητας $\\mathbb{P}_1[X_{20}=1]$ για την αλυσίδα της **Άσκησης 19** και θα υπολογίζει τη δειγματική μέση τιμή και διασπορά αυτών των εκτιμήσεων. Σε ένα κελί κειμένου παρακάτω απαντήστε τις εξής ερωτήσεις.\n",
    "\n",
    "1. Ποια είναι ο μέσος όρος των $Μ$ εκτιμήσεων της πιθανότητας $\\mathbb{P}_1[X_{20}=1]$ όταν $N=200$ και ποιος όταν $N=20.000$;\n",
    "2. Είναι αυτά τα αποτελέσματα κοντά στη θεωρητική τιμή που έχετε υπολογίσει;\n",
    "3. Ποια είναι η δειγματική διασπορά των $M$ εκτιμήσεων στις δύο περιπτώσεις;\n",
    "4. Αλλάζει ουσιαστικά η εκτίμησή σας, αν η αλυσίδα ξεκινάει από την κατάσταση `3` (τρίτη γραμμή του πίνακα);"
   ]
  },
  {
   "cell_type": "code",
   "execution_count": 1,
   "metadata": {},
   "outputs": [
    {
     "name": "stdout",
     "output_type": "stream",
     "text": [
      "Όταν η πιθανότητα είναι 1/6 \n",
      "Όταν η αλυσίδα ξεκινάει από την κατάσταση  1\n",
      "Ο μέσος όρος Μ=50 εκτιμήσεων για Ν=200 είναι 0.0439 και η διασπορά είναι 0.0002034\n",
      "Ο μέσος όρος Μ=50 εκτιμήσεων για Ν=20000 είναι 0.040159 και η διασπορά είναι 1.7e-06\n",
      "Όταν η αλυσίδα ξεκινάει από την κατάσταση  3\n",
      "Ο μέσος όρος Μ=50 εκτιμήσεων για Ν=200 είναι 0.036 και η διασπορά είναι 0.000198\n",
      "Ο μέσος όρος Μ=50 εκτιμήσεων για Ν=20000 είναι 0.040341 και η διασπορά είναι 1.8e-06\n",
      "Όταν η πιθανότητα είναι 1/12\n",
      "Όταν η αλυσίδα ξεκινάει από την κατάσταση  1\n",
      "Ο μέσος όρος Μ=50 εκτιμήσεων για Ν=200 είναι 0.0202 και η διασπορά είναι 0.0001112\n",
      "Ο μέσος όρος Μ=50 εκτιμήσεων για Ν=20000 είναι 0.020422 και η διασπορά είναι 8e-07\n",
      "Όταν η αλυσίδα ξεκινάει από την κατάσταση  3\n",
      "Ο μέσος όρος Μ=50 εκτιμήσεων για Ν=200 είναι 0.0213 και η διασπορά είναι 0.0001233\n",
      "Ο μέσος όρος Μ=50 εκτιμήσεων για Ν=20000 είναι 0.020581 και η διασπορά είναι 9e-07\n"
     ]
    }
   ],
   "source": [
    "import random \n",
    "import statistics as stat\n",
    "import random\n",
    "random.seed(2021)  # for reproducibility\n",
    "from simple_markov_chain_lib import markov_chain\n",
    "\n",
    "\n",
    "M=50\n",
    "steps=20\n",
    "list_prob=[1/6,1/12]\n",
    "for p in list_prob:\n",
    "    if (p==1/6):\n",
    "        print(\"Όταν η πιθανότητα είναι 1/6 \")\n",
    "    else:\n",
    "        print(\"Όταν η πιθανότητα είναι 1/12\")\n",
    "    initial_list=[1,3]\n",
    "    for initial in [1,3]:\n",
    "        initial_probs={initial: 1.0}\n",
    "        print(\"Όταν η αλυσίδα ξεκινάει από την κατάσταση \",initial)\n",
    "        markov_table = {\n",
    "        1: {2: 1.},\n",
    "        2: {2: 2/3, 3: 1/3},\n",
    "        3: {1: p, 2: 1-p}\n",
    "        }\n",
    "        mc = markov_chain(markov_table, initial_probs)\n",
    "        list2=[200,20000]\n",
    "        for N in list2:\n",
    "            M=50\n",
    "            steps=20\n",
    "            list_track=[]\n",
    "            for i in range(M):\n",
    "                counter = 0\n",
    "                for i in range(N): \n",
    "                    mc.start()\n",
    "                    for j in range(steps):mc.move()\n",
    "                    if mc.running_state == 1:  counter += 1\n",
    "                list_track.append(counter/N)\n",
    "            print(\n",
    "                \"\"\"Ο μέσος όρος Μ=50 εκτιμήσεων για Ν={0} είναι {1} και η διασπορά είναι {2}\"\"\".format(N,round(stat.mean(list_track),6),round(stat.variance(list_track),7))\n",
    "            )\n",
    "\n",
    "    \n"
   ]
  },
  {
   "cell_type": "markdown",
   "metadata": {},
   "source": [
    "#### Απαντήσεις \n",
    "Τα ερωτήματα 1 και 3 έχουν απαντηθεί παραπάνω.\n",
    "\n",
    "2)O υπολογίσμός της θεωρητικής μέσης τιμής φαίνεται παρακάτω. Ουσιαστικά υψώνουμε τον πίνακα πιθανοτήτων μετάβασης στην 20η δύναμη και παίρνουμε την τιμή του κελιού (0,0) για τις αντιστοίχες πιθανότητες p=1/6 και p=1/12. \n",
    "\n",
    "Παρατηρούμε ότι όντως οι τιμές που λαμβάνουμε όπως φαίνεται παρακάτω είναι πολύ κοντά στις εκτιμήσεις που βρήκαμε με τη μέθοδο Monte Carlo, αφού στην περίπτωση που :\n",
    "- p=1/6 :  Pr[X_20 = 1 | X_0 = 1]  =0.0439\n",
    "- p=1/6 :  Pr[X_20 = 1 | X_0 = 1]  =0.0202\n"
   ]
  },
  {
   "cell_type": "code",
   "execution_count": 3,
   "metadata": {},
   "outputs": [
    {
     "name": "stdout",
     "output_type": "stream",
     "text": [
      "0.03999999999951925\n",
      "0.02040816326507903\n"
     ]
    }
   ],
   "source": [
    "import numpy as np\n",
    "for p in [1/6,1/12]:\n",
    "  arr = np.array([[0,1,0],[0,2/3,1/3],[p,1-p,0]])\n",
    "  for n in range(20):\n",
    "        arr = arr.dot(arr)\n",
    "  print (arr[0][0])"
   ]
  },
  {
   "cell_type": "markdown",
   "metadata": {},
   "source": [
    "4) Παρατηρούμε οτι όταν η αλυσίδα ξεκινά από την τιμή 3 οι εκτιμήσεις μας είναι σχεδόν ίδιες με αυτές που έχουμε όταν η αλυσίδα ξεκινά από την τιμή 1."
   ]
  },
  {
   "cell_type": "markdown",
   "metadata": {},
   "source": [
    "### Άσκηση 40\n",
    "\n",
    "\n",
    "Υπολογίστε προσεγγιστικά με Monte Carlo την πιθανότητα νίκης του παίκτη που σερβίρει (Player A), αν η πιθανότητα που έχει να κερδίσει κάθε πόντο είναι 𝑝=0,6.\n",
    "\n",
    "![Markov Chain of Tennis Game](https://www.wolfram.com/mathematica/new-in-9/markov-chains-and-queues/HTMLImages.en/analyze-a-tennis-game/O_23.png)"
   ]
  },
  {
   "cell_type": "code",
   "execution_count": 6,
   "metadata": {},
   "outputs": [
    {
     "name": "stdout",
     "output_type": "stream",
     "text": [
      "Αρα υπολογίσαμε προσεγγιστικά ότι η πιθανότητα νίκης του παίκτη Player A είναι 0.74146\n"
     ]
    }
   ],
   "source": [
    "import random\n",
    "import numpy as np\n",
    "import statistics as stat\n",
    "from simple_markov_chain_lib import markov_chain\n",
    "random.seed(2021)  # for reproducibility\n",
    "\n",
    "p = 0.6\n",
    "q=1-p\n",
    "initial_probs = {\"0-0\": 1.0}\n",
    "markov_table = {\n",
    "    \"0-0\": { \"15-0\": p,\"0-15\": q},\n",
    "    \"15-0\": { \"30-0\": p,\"15-15\":q},\n",
    "    \"0-15\": {\"15-15\": p,\"0-30\": q },\n",
    "    \"30-0\": { \"40-0\": p,\"30-15\": q },\n",
    "    \"15-15\": { \"30-15\": p,\"15-30\": q },\n",
    "    \"0-30\": { \"15-30\": p,\"15-40\": q },\n",
    "    \"40-0\": { \"GameA\": p,\"40-15\": q },\n",
    "    \"30-15\": { \"40-15\": p,\"Deuce\": q },\n",
    "    \"15-30\": { \"Deuce\": p,\"15-40\": q },\n",
    "    \"0-40\": { \"15-40\": p,\"GameB\": q },\n",
    "    \"40-15\": { \"GameA\": p,\"AdvA\": q },\n",
    "    \"Deuce\": { \"AdvA\": p,\"AdvB\": q },\n",
    "    \"15-40\": { \"AdvB\": p,\"GameB\": q},\n",
    "    \"GameA\": { \"GameA\": 1.0 },\n",
    "    \"AdvA\": { \"GameA\": p,\"Deuce\": q },\n",
    "    \"AdvB\": { \"Deuce\": p,\"GameB\": q},\n",
    "    \"GameB\": { \"GameB\": 1.0 },\n",
    "}\n",
    "\n",
    "mc = markov_chain( markov_table, initial_probs)\n",
    "\n",
    "#Experiment \n",
    "N=20000\n",
    "list_track=[]\n",
    "count=0\n",
    "for i in range(10):\n",
    "    for i in range(N):\n",
    "        mc.start() \n",
    "        while mc.running_state not in [\"GameA\",\"GameB\"]:\n",
    "            mc.move()\n",
    "        if mc.running_state==\"GameA\":\n",
    "            count += 1\n",
    "    mean=count/N\n",
    "    list_track.append(mean)\n",
    "    count=0\n",
    "result= np.mean(list_track)\n",
    "print('Αρα υπολογίσαμε προσεγγιστικά ότι η πιθανότητα νίκης του παίκτη Player A είναι {0:.5f}'.format(result))"
   ]
  }
 ],
 "metadata": {
  "kernelspec": {
   "display_name": "Python 3",
   "language": "python",
   "name": "python3"
  },
  "language_info": {
   "codemirror_mode": {
    "name": "ipython",
    "version": 3
   },
   "file_extension": ".py",
   "mimetype": "text/x-python",
   "name": "python",
   "nbconvert_exporter": "python",
   "pygments_lexer": "ipython3",
   "version": "3.8.5"
  }
 },
 "nbformat": 4,
 "nbformat_minor": 4
}
