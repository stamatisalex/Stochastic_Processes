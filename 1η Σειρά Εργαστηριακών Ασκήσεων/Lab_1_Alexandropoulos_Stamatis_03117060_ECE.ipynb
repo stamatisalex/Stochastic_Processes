{
 "cells": [
  {
   "cell_type": "code",
   "execution_count": 22,
   "metadata": {},
   "outputs": [
    {
     "name": "stdout",
     "output_type": "stream",
     "text": [
      "At time 0 the chain is in state Bathroom\n",
      "At time 1 the chain is in state Living_Room\n",
      "At time 2 the chain is in state Kitchen\n",
      "At time 3 the chain is in state Library\n",
      "At time 4 the chain is in state Kitchen\n",
      "At time 5 the chain is in state Living_Room\n",
      "At time 6 the chain is in state Bathroom\n",
      "At time 7 the chain is in state Living_Room\n",
      "At time 8 the chain is in state Bathroom\n",
      "At time 9 the chain is in state Living_Room\n",
      "At time 10 the chain is in state Library\n",
      "At time 11 the chain is in state Living_Room\n",
      "At time 12 the chain is in state Library\n",
      "At time 13 the chain is in state Living_Room\n",
      "At time 14 the chain is in state Bathroom\n",
      "At time 15 the chain is in state Living_Room\n",
      "At time 16 the chain is in state Library\n",
      "At time 17 the chain is in state Living_Room\n",
      "At time 18 the chain is in state Bedroom\n",
      "At time 19 the chain is in state Living_Room\n",
      "At time 20 the chain is in state Library\n"
     ]
    }
   ],
   "source": [
    "#Όνομα :Αλεξανδρόπουλος Σταμάτης\n",
    "#Αριθμός Μητρώου: 03117060\n",
    "#Σχολή: ΗΜΜΥ\n",
    "#Εξάμηνο: 8ο\n",
    "\n",
    "from simple_markov_chain_lib import markov_chain  #import markov chain simulator\n",
    "\n",
    "list_of_rooms=['Kitchen','Library','Living_Room','Bedroom','Bathroom']\n",
    "\n",
    "#Transition Table\n",
    "\n",
    "markov_table = {\n",
    "    list_of_rooms[0]: {list_of_rooms[1]: .5, list_of_rooms[2]: .5},  # from list_of_rooms[0]= 'Kitchen' we have 0.5 propability to go to 'Bathroom' and 0.5 to go to 'Living_Room'    \n",
    "    list_of_rooms[1]: {list_of_rooms[0]: .5, list_of_rooms[2]: .5},\n",
    "    list_of_rooms[2]: {list_of_rooms[0]: .25, list_of_rooms[1]: .25,list_of_rooms[3]: .25, list_of_rooms[4]: .25},\n",
    "    list_of_rooms[3]: {list_of_rooms[2]: 1.},\n",
    "    list_of_rooms[4]: {list_of_rooms[2]: 1.}\n",
    "}\n",
    "\n",
    "# Initial Distribution\n",
    "init_dist = {list_of_rooms[4]: 1.}  # the insect starts from the Bathroom with propability 1\n",
    "\n",
    "mc = markov_chain(markov_table, init_dist)\n",
    "\n",
    "mc.start()\n",
    "print(\"At time {} the chain is in state {}\".format(mc.steps, mc.running_state))\n",
    "steps=20\n",
    "for i in range(steps):\n",
    "    mc.move()\n",
    "    print(\"At time {} the chain is in state {}\".format(mc.steps, mc.running_state))"
   ]
  },
  {
   "cell_type": "markdown",
   "metadata": {},
   "source": [
    "## Τροποποίηση Κώδικα\n",
    "\n",
    "Αρχικά ορίζομυε μια λίστα ( list_of_rooms ) με όλες τις πιθανές καταστάσεις, που αντιπροσωπεύουν το κάθε δωμάτιο ('Kitchen','Library','Living _ Room','Bedroom','Bathroom') . Το σύνολο των πιθανών καταστάσεων είναι το X = \\{'Kitchen, 'Library','Living_Room','Bedroom','Bathroom'\\} .\n",
    "\n",
    "Ο πίνακας πιθανοτήτων μετάβασης ορίζεται όπως φαίνεται από το markov_table  ως εξής:\n",
    "\n",
    "$$\n",
    "P = \n",
    "\\begin{pmatrix}\n",
    "0   & 1/2 & 1/2 &  0  & 0 \\\\\n",
    "1/2 &  0  &  1/2  & 0 & 0 \\\\\n",
    "1/4 &  1/4  &  0  &  1/4  & 1/4 \\\\\n",
    "0 &  0  &  1  & 0 & 0 \\\\\n",
    "0   &  0  &  1  &  0  & 0 \n",
    "\\end{pmatrix}\n",
    "$$\n",
    "\n",
    "\n",
    "\n",
    "Σύμφωνα με την εκφώνηση το έντομο ξεκινά με πιθανότητα 1 στο μπάνιο. Η αρχική κατανομή ορίζεται κατα παρόμοιο τρόπο σαν *σ.μ.π*  μέσω της εντολής  \" init_dist = {list_of_rooms[4]: 1.} \", δηλαδή από το διάνυσμα $ z_0 = (0, 0, 0, 0, 1 ) $ .Η ζητούμενη αλυσίδα Μαρκόβ, προκύπτει έπειτα  από τροποποίηση του δοθέντος κώδικα της  εκφώνησης. Συγκεκριμένα, χρησιμοποιώντας τον παραπάνω πίνακα πιανοτήτων και το διάνυσμα αρχικής κατάστασης, αλλάζουμε τον αριθμό των βημάτων (steps) του τυχαίου περιπάτου σε 20, αφού θέτουμε την μεταβλητή steps=20.  Τέλος, τρέχουμε τον κώδικα και λαμβάνουμε το παρακάτω τυχαίο στιγμιότυπο:  \n",
    "\n",
    "At time 0 the chain is in state Bathroom <br /> \n",
    "At time 1 the chain is in state Living_Room <br /> \n",
    "At time 2 the chain is in state Kitchen <br /> \n",
    "At time 3 the chain is in state Library <br /> \n",
    "At time 4 the chain is in state Kitchen <br /> \n",
    "At time 5 the chain is in state Living_Room <br /> \n",
    "At time 6 the chain is in state Bathroom <br /> \n",
    "At time 7 the chain is in state Living_Room <br /> \n",
    "At time 8 the chain is in state Bathroom <br /> \n",
    "At time 9 the chain is in state Living_Room <br /> \n",
    "At time 10 the chain is in state Library <br /> \n",
    "At time 11 the chain is in state Living_Room <br /> \n",
    "At time 12 the chain is in state Library <br /> \n",
    "At time 13 the chain is in state Living_Room <br /> \n",
    "At time 14 the chain is in state Bathroom <br /> \n",
    "At time 15 the chain is in state Living_Room <br /> \n",
    "At time 16 the chain is in state Library <br /> \n",
    "At time 17 the chain is in state Living_Room <br /> \n",
    "At time 18 the chain is in state Bedroom <br /> \n",
    "At time 19 the chain is in state Living_Room <br /> \n",
    "At time 20 the chain is in state Library\n",
    "\n",
    "\n",
    "\n"
   ]
  },
  {
   "cell_type": "code",
   "execution_count": null,
   "metadata": {},
   "outputs": [],
   "source": []
  }
 ],
 "metadata": {
  "kernelspec": {
   "display_name": "Python 3",
   "language": "python",
   "name": "python3"
  },
  "language_info": {
   "codemirror_mode": {
    "name": "ipython",
    "version": 3
   },
   "file_extension": ".py",
   "mimetype": "text/x-python",
   "name": "python",
   "nbconvert_exporter": "python",
   "pygments_lexer": "ipython3",
   "version": "3.8.5"
  }
 },
 "nbformat": 4,
 "nbformat_minor": 4
}
